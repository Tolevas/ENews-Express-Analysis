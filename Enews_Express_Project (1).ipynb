{
 "cells": [
  {
   "cell_type": "markdown",
   "id": "6yDxo9u0d9Na",
   "metadata": {
    "id": "6yDxo9u0d9Na"
   },
   "source": [
    "# E-news Express Analysis\n"
   ]
  },
  {
   "cell_type": "markdown",
   "id": "9Vt1PLLqmXNn",
   "metadata": {
    "id": "9Vt1PLLqmXNn"
   },
   "source": [
    "## Overview:\n",
    "You are working at an online news site E-News Express and have been asked to analyze the the results of and A/B test.  The site believes their old landing page, or the first page customers see when entering their site, is outdated and this is causing customers to not subscribe to their news service.  They created an updated landing page in order to entice new customers and convince them to subscribe to the service. To test the effectivness of their new landing page, they performed an A/B test between the old landing page and the new landing page.  This is a process in which they send some potential customers  to the old landing page and some customers to the new landing page (100 people to each) and observe the differences (or lack there of) in how potential customers interact with the two pages .  This is a very common practice in website design as well as digital marketing and allows businesses to test a new idea before making a permenant change. \n",
    "\n",
    " **Objectives**  \n",
    "Your job as an analyst is to perform exploratoryy data analysis on the A/B test data to identify what variables and relationships may give insight into the performance of the pages. You have also been asked to answer several specific questions by the E-News Express Team. You will need to perform statistical analysis to answer these questions and find if the differences between the two pages are considered statictically significant (p-value < 5%) to claim that differences in performance are not due to random chance\n",
    " - **Questions**\n",
    "     - Do the users spend more time on the new landing page than on the existing landing page?\n",
    "     - Is the conversion rate (the proportion of users who visit the landing page and get converted) for the new page greater than the conversion rate for the old page?\n",
    "     - Does the converted status depend on the preferred language?\n",
    "     - Is the time spent on the new page the same for the different language users? \n"
   ]
  },
  {
   "cell_type": "markdown",
   "id": "a6a3d218",
   "metadata": {
    "id": "a6a3d218"
   },
   "source": [
    "## Import all the necessary libraries"
   ]
  },
  {
   "cell_type": "code",
   "execution_count": 1,
   "id": "658c5dec",
   "metadata": {
    "id": "658c5dec"
   },
   "outputs": [],
   "source": [
    "import pandas as pd #for data importing, cleaning, and manupulation\n",
    "import numpy as np #for working with arrays \n",
    "import matplotlib.pyplot as plt #for visualizations\n",
    "import seaborn as sns #for visualizations\n",
    "import scipy.stats as stats #for performing statistican analysis and determining statistical significance\n",
    "from scipy.stats import ttest_ind #import t-test function for later analysis\n",
    "from scipy.stats import chi2_contingency #imports chi squared test\n",
    "from scipy.stats import levene #import the levens test\n",
    "from scipy.stats import f_oneway #import the ANOVA (one-way) test\n",
    "\n",
    "#tells python to automatically print dataframes and plots without needing a seperate print command for each\n",
    "%matplotlib inline  "
   ]
  },
  {
   "cell_type": "markdown",
   "id": "6970dd99",
   "metadata": {
    "id": "6970dd99"
   },
   "source": [
    "## Reading the Data into a DataFrame"
   ]
  },
  {
   "cell_type": "code",
   "execution_count": 2,
   "id": "d3b95640",
   "metadata": {
    "id": "d3b95640"
   },
   "outputs": [
    {
     "name": "stdout",
     "output_type": "stream",
     "text": [
      "    user_id      group landing_page  page_time converted language\n",
      "0    546592    control          old       3.48        no  Spanish\n",
      "1    546468  treatment          new       7.13       yes  English\n",
      "2    546462  treatment          new       4.40        no  Spanish\n",
      "3    546567    control          old       3.02        no   French\n",
      "4    546459  treatment          new       4.75       yes  Spanish\n",
      "..      ...        ...          ...        ...       ...      ...\n",
      "95   546446  treatment          new       5.15        no  Spanish\n",
      "96   546544    control          old       6.52       yes  English\n",
      "97   546472  treatment          new       7.07       yes  Spanish\n",
      "98   546481  treatment          new       6.20       yes  Spanish\n",
      "99   546483  treatment          new       5.86       yes  English\n",
      "\n",
      "[100 rows x 6 columns]\n"
     ]
    }
   ],
   "source": [
    "#import you data and take a look at the dataframe for any obvious issues \n",
    "df=pd.read_csv('abtest.csv')\n",
    "\n",
    "#make column names shorter for more effecient coding throughout project\n",
    "df.rename(columns={'time_spent_on_the_page':'page_time', 'language_preferred':'language'}, inplace=True)\n",
    "print(df)"
   ]
  },
  {
   "cell_type": "markdown",
   "id": "9d75cfa2",
   "metadata": {
    "id": "9d75cfa2"
   },
   "source": [
    "## Explore the dataset and extract insights using Exploratory Data Analysis"
   ]
  },
  {
   "cell_type": "markdown",
   "id": "27201534",
   "metadata": {
    "id": "27201534"
   },
   "source": [
    "- Data Overview\n",
    "  - Viewing the first and last few rows of the dataset\n",
    "  - Checking the shape of the dataset\n",
    "  - Getting the statistical summary for the variables\n",
    "- Check for missing values\n",
    "- Check for duplicates"
   ]
  },
  {
   "cell_type": "code",
   "execution_count": 3,
   "id": "7a25c812-3ef4-40b2-a243-7b818c19ff40",
   "metadata": {},
   "outputs": [
    {
     "name": "stdout",
     "output_type": "stream",
     "text": [
      "    user_id      group landing_page  page_time converted language\n",
      "0    546592    control          old       3.48        no  Spanish\n",
      "1    546468  treatment          new       7.13       yes  English\n",
      "2    546462  treatment          new       4.40        no  Spanish\n",
      "3    546567    control          old       3.02        no   French\n",
      "4    546459  treatment          new       4.75       yes  Spanish\n",
      "..      ...        ...          ...        ...       ...      ...\n",
      "95   546446  treatment          new       5.15        no  Spanish\n",
      "96   546544    control          old       6.52       yes  English\n",
      "97   546472  treatment          new       7.07       yes  Spanish\n",
      "98   546481  treatment          new       6.20       yes  Spanish\n",
      "99   546483  treatment          new       5.86       yes  English\n",
      "\n",
      "[100 rows x 6 columns]\n",
      "user_id         0\n",
      "group           0\n",
      "landing_page    0\n",
      "page_time       0\n",
      "converted       0\n",
      "language        0\n",
      "dtype: int64\n",
      "<class 'pandas.core.frame.DataFrame'>\n",
      "RangeIndex: 100 entries, 0 to 99\n",
      "Data columns (total 6 columns):\n",
      " #   Column        Non-Null Count  Dtype  \n",
      "---  ------        --------------  -----  \n",
      " 0   user_id       100 non-null    int64  \n",
      " 1   group         100 non-null    object \n",
      " 2   landing_page  100 non-null    object \n",
      " 3   page_time     100 non-null    float64\n",
      " 4   converted     100 non-null    object \n",
      " 5   language      100 non-null    object \n",
      "dtypes: float64(1), int64(1), object(4)\n",
      "memory usage: 4.8+ KB\n",
      "(100, 6)\n"
     ]
    },
    {
     "data": {
      "text/html": [
       "<div>\n",
       "<style scoped>\n",
       "    .dataframe tbody tr th:only-of-type {\n",
       "        vertical-align: middle;\n",
       "    }\n",
       "\n",
       "    .dataframe tbody tr th {\n",
       "        vertical-align: top;\n",
       "    }\n",
       "\n",
       "    .dataframe thead th {\n",
       "        text-align: right;\n",
       "    }\n",
       "</style>\n",
       "<table border=\"1\" class=\"dataframe\">\n",
       "  <thead>\n",
       "    <tr style=\"text-align: right;\">\n",
       "      <th></th>\n",
       "      <th>user_id</th>\n",
       "      <th>page_time</th>\n",
       "    </tr>\n",
       "  </thead>\n",
       "  <tbody>\n",
       "    <tr>\n",
       "      <th>count</th>\n",
       "      <td>100.000000</td>\n",
       "      <td>100.000000</td>\n",
       "    </tr>\n",
       "    <tr>\n",
       "      <th>mean</th>\n",
       "      <td>546517.000000</td>\n",
       "      <td>5.377800</td>\n",
       "    </tr>\n",
       "    <tr>\n",
       "      <th>std</th>\n",
       "      <td>52.295779</td>\n",
       "      <td>2.378166</td>\n",
       "    </tr>\n",
       "    <tr>\n",
       "      <th>min</th>\n",
       "      <td>546443.000000</td>\n",
       "      <td>0.190000</td>\n",
       "    </tr>\n",
       "    <tr>\n",
       "      <th>25%</th>\n",
       "      <td>546467.750000</td>\n",
       "      <td>3.880000</td>\n",
       "    </tr>\n",
       "    <tr>\n",
       "      <th>50%</th>\n",
       "      <td>546492.500000</td>\n",
       "      <td>5.415000</td>\n",
       "    </tr>\n",
       "    <tr>\n",
       "      <th>75%</th>\n",
       "      <td>546567.250000</td>\n",
       "      <td>7.022500</td>\n",
       "    </tr>\n",
       "    <tr>\n",
       "      <th>max</th>\n",
       "      <td>546592.000000</td>\n",
       "      <td>10.710000</td>\n",
       "    </tr>\n",
       "  </tbody>\n",
       "</table>\n",
       "</div>"
      ],
      "text/plain": [
       "             user_id   page_time\n",
       "count     100.000000  100.000000\n",
       "mean   546517.000000    5.377800\n",
       "std        52.295779    2.378166\n",
       "min    546443.000000    0.190000\n",
       "25%    546467.750000    3.880000\n",
       "50%    546492.500000    5.415000\n",
       "75%    546567.250000    7.022500\n",
       "max    546592.000000   10.710000"
      ]
     },
     "execution_count": 3,
     "metadata": {},
     "output_type": "execute_result"
    }
   ],
   "source": [
    "print(df)\n",
    "\n",
    "#look through each column for missing values (there are none)\n",
    "print(df.isnull().sum())\n",
    "\n",
    "#look at data types ()\n",
    "df.info()\n",
    "\n",
    "#This checks how many rows and columns in dataframe. (Data has 100 rows and 6 columns)\n",
    "print(df.shape)\n",
    "\n",
    "# this code is used to see if their are any duplicated rows in the dataset (there aren't)\n",
    "columns= ('user_id','group','landing_page', 'page_time', 'converted', 'language')\n",
    "duplicates=df.duplicated(subset=columns, keep=False)\n",
    "\n",
    "#Here we are testing to see if the 'group' and 'control' columns contain the exact same information.\n",
    "df['group'].value_counts()\n",
    "df['landing_page'].value_counts()\n",
    "\n",
    "#check the statistical summary of the data\n",
    "df.describe()"
   ]
  },
  {
   "cell_type": "markdown",
   "id": "64b9cc49-16bc-41ff-866a-d04ffb7b1e8a",
   "metadata": {},
   "source": [
    "  **Observations**\n",
    "- We can see that none of the columns in the dataframe contain null values so we dont have to worry about removing these. \n",
    "\n",
    "- All columns are in the correct data type that will allow us to easily work with them.  We dont need to change any datatypes.\n",
    "\n",
    "- There are 100 rows and 6 columns.\n",
    "\n",
    "- There are no duplicate rows in the dataset\n",
    "\n",
    "-  Here we can see that the 'group' column and 'landing_page' column contain the exact same information.  In the group column the 'control' output is the same as 'old' in the landing_page column. We know this because the counts of each output is the exact same and we can se vialually that these outputs always match each other in each row (i.e. 'new' with 'treatment' and 'old' with 'control'). We could remove one of the rows but it doesnt really have a negative effect on our analysis so I will leave it.  If we were working with a much larger dataset I would likely remove it in order to save space in the database. \n",
    "\n",
    "\n",
    "- We can see some basic statistics on the 'page_time' variable with our statistical summary.  For example the mean page time across both parts of the A/B test is 5.38 minutes"
   ]
  },
  {
   "cell_type": "markdown",
   "id": "3d36797b-e70b-40c1-b2a9-4217e4a4b8f1",
   "metadata": {
    "id": "68f3b2c9"
   },
   "source": [
    "### Univariate Analysis"
   ]
  },
  {
   "cell_type": "code",
   "execution_count": 4,
   "id": "1932d0f3",
   "metadata": {
    "id": "1932d0f3"
   },
   "outputs": [
    {
     "data": {
      "image/png": "[encoded data removed]",
      "text/plain": [
       "<Figure size 360x360 with 1 Axes>"
      ]
     },
     "metadata": {
      "needs_background": "light"
     },
     "output_type": "display_data"
    },
    {
     "data": {
      "image/png": "[encoded data removed]",
      "text/plain": [
       "<Figure size 432x288 with 1 Axes>"
      ]
     },
     "metadata": {
      "needs_background": "light"
     },
     "output_type": "display_data"
    },
    {
     "data": {
      "image/png": "[encoded data removed]",
      "text/plain": [
       "<Figure size 432x288 with 1 Axes>"
      ]
     },
     "metadata": {
      "needs_background": "light"
     },
     "output_type": "display_data"
    },
    {
     "data": {
      "image/png": "[encoded data removed]",
      "text/plain": [
       "<Figure size 432x288 with 1 Axes>"
      ]
     },
     "metadata": {
      "needs_background": "light"
     },
     "output_type": "display_data"
    }
   ],
   "source": [
    "#here we see the distribution of the 'page_time' data\n",
    "sns.displot(data=df['page_time'], kde=True, bins=16)\n",
    "plt.show()\n",
    "\n",
    "#This plot looks at the number of people in the sample who who spoke each language.\n",
    "sns.countplot(data=df, x='language')\n",
    "plt.show()\n",
    "\n",
    "#This plot looks at the number of people who converted vs. didn't convert.\n",
    "sns.countplot(data=df, x='converted')\n",
    "plt.show()\n",
    "\n",
    "#This plot looks at the number of people in the control group and treatment group.\n",
    "sns.countplot(data=df, x='group')\n",
    "plt.show()"
   ]
  },
  {
   "cell_type": "markdown",
   "id": "233ad0a8-22c9-4729-b93a-06df1cd2d5d2",
   "metadata": {},
   "source": [
    "**Observations**\n",
    "- The distribution of time spent on landing page is apporximately normal\n",
    "- The number is people sampled who speach english, spanish and french is similar but not exactly the same.\n",
    "- For the A/B test as a whole, more people converted than people who didn't\n",
    "- The sample sizes of control vs. treatment groups are confirmed to be the same."
   ]
  },
  {
   "cell_type": "markdown",
   "id": "fad2de2f",
   "metadata": {
    "id": "fad2de2f"
   },
   "source": [
    "### Bivariate Analysis"
   ]
  },
  {
   "cell_type": "code",
   "execution_count": 5,
   "id": "58e9a1d0",
   "metadata": {
    "id": "58e9a1d0"
   },
   "outputs": [
    {
     "data": {
      "text/plain": [
       "<AxesSubplot:xlabel='converted', ylabel='page_time'>"
      ]
     },
     "execution_count": 5,
     "metadata": {},
     "output_type": "execute_result"
    },
    {
     "data": {
      "image/png": "[encoded data removed]",
      "text/plain": [
       "<Figure size 1800x720 with 8 Axes>"
      ]
     },
     "metadata": {
      "needs_background": "light"
     },
     "output_type": "display_data"
    }
   ],
   "source": [
    "fig,axs = plt.subplots(2,4, figsize=(25,10))\n",
    "\n",
    "#Here we are looking at the number of people who converted and didn't convert in the control and treatment groups.\n",
    "sns.countplot(data=df, x='converted', hue='group', ax=axs[0,0])\n",
    "\n",
    "#This looks at the relationship between landing page (new vs. old), conversion success (yes vs. no) and time spent on page.\n",
    "sns.boxplot(data=df, x='landing_page', y='page_time', hue='converted', ax=axs[0,1], showmeans=True)\n",
    "\n",
    "#This looks at the relationship between landing conversion success (yes vs. no) and time spent on page.\n",
    "sns.boxplot(data=df, x='converted', y='page_time', ax=axs[0,2], showmeans=True)\n",
    "\n",
    "#This looks at the relationship between landing page (new vs. old) and time spent on page\n",
    "sns.boxplot(data=df, x='landing_page', y='page_time', ax=axs[0,3], )\n",
    "\n",
    "#This looks at the relationship between landing page (new vs. old) and time spent on page and also how this is affected by the language of the user.\n",
    "sns.boxplot(data=df, x='landing_page', y='page_time', hue='language', ax=axs[1,0])\n",
    "\n",
    "#here we can again see that the 'landing_page' column again has the exact same data as the 'group' column.\n",
    "sns.countplot(data=df, x='landing_page', hue='language', ax=axs[1,1])\n",
    "\n",
    "#count of the sample size of the categorical variables divided by language.  Each language group has the same number of people in both the control (old) and treatment(new) groups  \n",
    "sns.countplot(data=df, x='group', hue='language', ax=axs[1,2])\n",
    "\n",
    "sns.boxplot(data=df, x='converted', y='page_time', hue='language', ax=axs[1,3])\n"
   ]
  },
  {
   "cell_type": "markdown",
   "id": "3da3ceeb-355e-485c-8162-9a99af023739",
   "metadata": {},
   "source": [
    "**Observations**\n",
    "- Visually, users spend more time on the new landing page compared to the old.  This relationship must be analyzed with statistical analysis to determine if we can consider it significant.\n",
    "\n",
    "- Those who converted on both the old page and the new page seems to spend more time on the page on average.  This relationship must be analyzed with statistical analysis to determine if we can consider it significant.\n",
    "\n",
    "- Greater time spent on the page seems to lead to greater conversion rate (across all language categories). This relationship must be analyzed with statistical analysis to determine if we can consider it significant.\n",
    "\n",
    "- The number of people in the control vs. treatment groups are confirmed to be the same.  Also there are the same number of spanish, english, and french speakers in each group\n",
    "\n",
    "- A simply visual analysis of the the conversion count between the control and treatment groups seeems to indicate that more people were converted on the treatment(new landing page).  We need to do more statistical analysis to verify that this visual relationship is statistically significant.  "
   ]
  },
  {
   "cell_type": "markdown",
   "id": "27906576",
   "metadata": {
    "id": "27906576"
   },
   "source": [
    "## 1. Do the users spend more time on the new landing page than the existing landing page?"
   ]
  },
  {
   "cell_type": "markdown",
   "id": "e5fdf0c8",
   "metadata": {
    "id": "e5fdf0c8"
   },
   "source": [
    "### Perform Visual Analysis"
   ]
  },
  {
   "cell_type": "code",
   "execution_count": 6,
   "id": "6eZJa41eg21n",
   "metadata": {
    "id": "6eZJa41eg21n"
   },
   "outputs": [
    {
     "data": {
      "image/png": "[encoded data removed]",
      "text/plain": [
       "<Figure size 432x288 with 1 Axes>"
      ]
     },
     "metadata": {
      "needs_background": "light"
     },
     "output_type": "display_data"
    },
    {
     "data": {
      "image/png": "[encoded data removed]",
      "text/plain": [
       "<Figure size 432x288 with 1 Axes>"
      ]
     },
     "metadata": {
      "needs_background": "light"
     },
     "output_type": "display_data"
    },
    {
     "name": "stdout",
     "output_type": "stream",
     "text": [
      "4.53\n",
      "6.22\n"
     ]
    },
    {
     "data": {
      "text/plain": [
       "<seaborn.axisgrid.FacetGrid at 0x7fcbf0e81f40>"
      ]
     },
     "execution_count": 6,
     "metadata": {},
     "output_type": "execute_result"
    },
    {
     "data": {
      "image/png": "[encoded data removed]",
      "text/plain": [
       "<Figure size 360x360 with 1 Axes>"
      ]
     },
     "metadata": {
      "needs_background": "light"
     },
     "output_type": "display_data"
    },
    {
     "data": {
      "image/png": "[encoded data removed]",
      "text/plain": [
       "<Figure size 360x360 with 1 Axes>"
      ]
     },
     "metadata": {
      "needs_background": "light"
     },
     "output_type": "display_data"
    }
   ],
   "source": [
    "#This looks at the relationship between landing page (new vs. old) and time spent on page (for all languages this is true)\n",
    "sns.boxplot(data=df, x='landing_page', y='page_time')\n",
    "plt.show()\n",
    "sns.boxplot(data=df, x='landing_page', y='page_time', hue='language')\n",
    "plt.show()\n",
    "\n",
    "#split new landing page data dn old landing page data into 2 seperate dataframes for analysis\n",
    "land_old=df[df['landing_page']== 'old']\n",
    "print(round(land_old['page_time'].mean(),2))\n",
    "land_new=df[df['landing_page'] == 'new']\n",
    "print(round(land_new['page_time'].mean(), 2))\n",
    "\n",
    "#make sure both new datasets have approx normal distributions \n",
    "sns.displot(data=land_new, x='page_time', kde=True)\n",
    "sns.displot(data=land_old, x='page_time', kde=True)"
   ]
  },
  {
   "cell_type": "markdown",
   "id": "b78ce9c6-db0d-445b-8c87-34e49a943015",
   "metadata": {},
   "source": [
    "**Observations**\n",
    "- Visually, users spend more time on the new landing page compared to the old.  This relationship must be analyzed with statistical analysis to determine if we can consider it significant.\n",
    "\n",
    "- Both 'new' and 'old' landing page data have approx normal distributions"
   ]
  },
  {
   "cell_type": "markdown",
   "id": "56b3dafd",
   "metadata": {
    "id": "56b3dafd"
   },
   "source": [
    "### Step 1: Define the null and alternate hypotheses"
   ]
  },
  {
   "cell_type": "code",
   "execution_count": 7,
   "id": "180bffa9-d158-4743-a392-b77f3932f10c",
   "metadata": {
    "id": "d2ac77ef"
   },
   "outputs": [
    {
     "name": "stdout",
     "output_type": "stream",
     "text": [
      "4.53\n",
      "2.58\n",
      "50\n",
      "6.22\n",
      "1.82\n",
      "50\n"
     ]
    }
   ],
   "source": [
    "#We have two independent populations and we are comparing their means without knowing their standard deviations. Therefore we must use a 2 sample T-test\n",
    "\n",
    "# Find the mean, std deviation, and sample size of page_time for old and new landing pages \n",
    "print(round(land_old['page_time'].mean(), 2))\n",
    "print(round(land_old['page_time'].std(), 2))\n",
    "print(land_old['page_time'].count())\n",
    "print(round(land_new['page_time'].mean(), 2))\n",
    "print(round(land_new['page_time'].std(), 2))\n",
    "print(land_new['page_time'].count())\n"
   ]
  },
  {
   "cell_type": "markdown",
   "id": "29071300-1458-44e0-b299-b74c59ebdb68",
   "metadata": {},
   "source": [
    "**Overview**\n",
    "We calculated the mean and standard deviation for 'page_time' on both the 'old' and 'new' landing page, meaning we should use \"2 sample equality of means T-Test\".  Below is a list of the requirements that must be met in order to use this test \n",
    "- Continuous data: page_time is continuous\n",
    "- Normally distributed data with n>30 for each sample: both 'old' and 'new' pages are approx normally distributed and have n>30\n",
    "- Independent Populations: yes each group of new landing page and old landing page are independent of one another\n",
    "- Unequal Standard deviations : yes the standard deviations calculated above are different from one another \n",
    "- Random Sampling: yes the A/B test was conducted with random sampling "
   ]
  },
  {
   "cell_type": "markdown",
   "id": "452eec4b-eff4-44f6-ab9c-f28b4149b00f",
   "metadata": {},
   "source": [
    "**Hypothesis**\n",
    "\n",
    "Null hypothesis: Our null hypothesis is that users, on average, are spending an equal amount of time on both the old and new landing pages.\n",
    "- 𝐻0: 𝜇(old page_time) = 𝜇(new page_time)\n",
    " \n",
    "Alternate hypothesis: Our alternate hypothesis is that users, on average, are spending more time on the new landing page than the old.\n",
    "- 𝐻𝑎: 𝜇(old page time) < 𝜇(new page time)"
   ]
  },
  {
   "cell_type": "markdown",
   "id": "92d7d7ee",
   "metadata": {
    "id": "92d7d7ee"
   },
   "source": [
    "**We are using 5% as our level of significance FOR ALL STATISTICAL TESTS**\n",
    "- We need a p-value of 0.05 or less to reject the null hypothesis and agree that users, on average, are spending more time on the new landing page than the old."
   ]
  },
  {
   "cell_type": "markdown",
   "id": "f5c5258d",
   "metadata": {
    "id": "f5c5258d"
   },
   "source": [
    "**Calculate the p-value of our T-Test**"
   ]
  },
  {
   "cell_type": "code",
   "execution_count": 8,
   "id": "aa43ff75-936b-4b3c-ab88-1f31d256ae90",
   "metadata": {},
   "outputs": [
    {
     "name": "stdout",
     "output_type": "stream",
     "text": [
      "The p-value is  0.0001392381225166549\n"
     ]
    }
   ],
   "source": [
    "# find the p-value using the independent T-test\n",
    "test_stat, p_value = ttest_ind(land_new['page_time'],land_old['page_time'], equal_var = False, alternative = 'greater')\n",
    "print('The p-value is ', p_value)"
   ]
  },
  {
   "cell_type": "markdown",
   "id": "a6c4392b-41ac-4e18-9202-ff08af73607d",
   "metadata": {
    "id": "7be47289"
   },
   "source": [
    "**Observations and Conclusions**\n",
    "Our p-value is much smaller than the predetermined 5% level of significance.  This means that we can reject the null hypothesis and say that is is reasonable to assume that people spend more time on the new landing page compared to the old. \n",
    "- Due to the fact that the mean time spent on the new landing page is larger than the mean time spent on the old landing page we can assume that the design of the new landing page is better than the old. Also this difference was found to be statistically significant.  That being said, the ultimate goal of the webite is to convert cold trafic into customers by convincing them to purchase a subscription.  We need to do more analysis on the conversion data to definitavly say that the new landing page is better in all respects.  "
   ]
  },
  {
   "cell_type": "markdown",
   "id": "353e9d24",
   "metadata": {
    "id": "353e9d24"
   },
   "source": [
    "## 2. Is the conversion rate (the proportion of users who visit the landing page and get converted) for the new page greater than the conversion rate for the old page?"
   ]
  },
  {
   "cell_type": "code",
   "execution_count": 9,
   "id": "ea265ddc-7efb-48e1-82d9-4d43e00e2470",
   "metadata": {},
   "outputs": [
    {
     "data": {
      "image/png": "[encoded data removed]",
      "text/plain": [
       "<Figure size 432x288 with 1 Axes>"
      ]
     },
     "metadata": {
      "needs_background": "light"
     },
     "output_type": "display_data"
    },
    {
     "name": "stdout",
     "output_type": "stream",
     "text": [
      "landing_page  new  old\n",
      "converted             \n",
      "no             17   29\n",
      "yes            33   21\n"
     ]
    }
   ],
   "source": [
    "#ok I should have used a proportion-z test here because the question is asking about the proportion of converted between the two treatments.  The chi squared test tests for a relationship between two categorical variables (like in question 3) but thats not what this question is asking\n",
    "\n",
    "#Take a look at the data you'll be analyzing\n",
    "sns.countplot(data=df, x='converted', hue='group')\n",
    "plt.show()\n",
    "#it appears that the tratment group  (new landing page) has a greater conversion rate but we need to do a Chi-squared test to confirm the significance of this relationship.\n",
    "\n",
    "#Create a contingency table with the count of the converted and not converted visitors on the old and new landing pages \n",
    "cont_table = pd.crosstab(df['converted'], df['landing_page'])\n",
    "# display the contingency table\n",
    "print(cont_table)"
   ]
  },
  {
   "cell_type": "markdown",
   "id": "8e97d323-27ac-4a76-b4ae-e6991d24c3b4",
   "metadata": {
    "id": "b7f52898"
   },
   "source": [
    "**Overview**\n",
    "Because the conversion('yes' or 'no') and landing page('old' and 'new') variables are categorical but since we are compairing the proportion of conversions of each of these categorical variables, we must use a two way z-test. as we are compairing the proportions of converted people from two different damples (new vs. old landing page). Below are the assumo\n",
    "\n",
    "Lets check the requirments of using a two proportion z-test:\n",
    "- Binomially distributed populations\n",
    "- Independent populations: yes the old and new landing pages are independent of one another\n",
    "- Random Sampling: yes the A/B test was conducted with random sampling "
   ]
  },
  {
   "cell_type": "markdown",
   "id": "d3c09a45-dafc-45ff-921d-940754656039",
   "metadata": {},
   "source": [
    "**Hypothesis**\n",
    "\n",
    "Null hypothesis: Our null hypothesis is that the conversion rate between the new and old page is the same. \n",
    "\n",
    "- 𝐻0: Proportion converted on new landing page = Proportion converted on old landing page\n",
    " \n",
    "Alternate hypothesis: Conversion rate depends on the landing_page ('old' or 'new')\n",
    "\n",
    "- 𝐻𝑎: Proportion converted on new landing page > Proportion converted on old landing page"
   ]
  },
  {
   "cell_type": "code",
   "execution_count": 10,
   "id": "51442c6a-4b0e-4715-a462-f85123be019a",
   "metadata": {},
   "outputs": [
    {
     "name": "stdout",
     "output_type": "stream",
     "text": [
      "0.008026308204056278\n"
     ]
    }
   ],
   "source": [
    "from statsmodels.stats.proportion import proportions_ztest\n",
    "\n",
    "conversion_count= np.array([33, 21])\n",
    "\n",
    "sample_count= np.array([50, 50])\n",
    "\n",
    "test_stat, pvalue = proportions_ztest(conversion_count, sample_count, alternative='larger')\n",
    "print(pvalue)"
   ]
  },
  {
   "cell_type": "markdown",
   "id": "a523e914-117c-4e3d-8c01-65d9436af067",
   "metadata": {},
   "source": [
    "**Results and Observations**\n",
    "Our P-value is below our 5% level of significance and therefore we can reject our null hypothesis and say that the proportion of conversions on the new landing page is significantly larger than the old landing page. \n",
    "- Due to the fact that the new landing page has both a significantly higher conversion rate and significantly higher page time than the old landing page, we can say that the new landing page is better than the old and the site should be permenantly changed. "
   ]
  },
  {
   "cell_type": "markdown",
   "id": "d49bfa2d",
   "metadata": {
    "id": "d49bfa2d"
   },
   "source": [
    "## 3. Is the conversion and preferred language are independent or related?"
   ]
  },
  {
   "cell_type": "code",
   "execution_count": 11,
   "id": "b0e63f17",
   "metadata": {
    "id": "b0e63f17"
   },
   "outputs": [
    {
     "data": {
      "image/png": "[encoded data removed]",
      "text/plain": [
       "<Figure size 432x288 with 1 Axes>"
      ]
     },
     "metadata": {
      "needs_background": "light"
     },
     "output_type": "display_data"
    },
    {
     "name": "stdout",
     "output_type": "stream",
     "text": [
      "converted  no  yes\n",
      "language          \n",
      "English    11   21\n",
      "French     19   15\n",
      "Spanish    16   18\n"
     ]
    }
   ],
   "source": [
    "#visualize the relationship between language and conversion. \n",
    "sns.countplot(data=df, x='converted', hue='language')\n",
    "plt.show()\n",
    "\n",
    "#create contingency table that allows us to run chi-squared test on the two categorical variables\n",
    "lang_table= pd.crosstab(df['language'], df['converted'])\n",
    "print(lang_table)\n",
    "\n",
    "#Must do Chi Squared (create contingency table counting the number of users who did and didnt convert for each)"
   ]
  },
  {
   "cell_type": "markdown",
   "id": "53a93a93-56f4-4c99-8761-e07cdd6a60fa",
   "metadata": {},
   "source": [
    "**Overview**\n",
    "\n",
    "Because the conversion('yes' or 'no') and language(English, Spanish, and French) variables are categorical we need to use a Chi-Squared test of independence. Therefore we need to make sure of a few parameters listed below in order to run chi-squared test.\n",
    "\n",
    "- Categorical variables: Yes both variables are categorical \n",
    "- Sample size of at least 5 in each group: yes you can see above that there are more than 5 samples in each group\n",
    "- Random Sampling: yes the A/B test was conducted with random sampling as described in the directions"
   ]
  },
  {
   "cell_type": "markdown",
   "id": "93eb935c-fa95-4f8b-8190-349f14a6ce78",
   "metadata": {},
   "source": [
    "**Hypothesis**\n",
    "\n",
    "Null hypothesis: Our null hypothesis is that the conversion rate between languages is the same. \n",
    "\n",
    "- 𝐻0: Conversion rate is independent of language \n",
    " \n",
    "Alternate hypothesis: Conversion rate depends on the language.\n",
    "\n",
    "- 𝐻𝑎: Conversion rate is effected (dependent) on the language \n"
   ]
  },
  {
   "cell_type": "code",
   "execution_count": 12,
   "id": "c8358f74-e216-41a3-b3c7-0f7322987996",
   "metadata": {},
   "outputs": [
    {
     "name": "stdout",
     "output_type": "stream",
     "text": [
      "0.2129888748754345\n"
     ]
    }
   ],
   "source": [
    "#here we will run our chi-squared test on the lang_table created above\n",
    "chi, p_value, dof, expected = chi2_contingency(lang_table)\n",
    "print(p_value)"
   ]
  },
  {
   "cell_type": "markdown",
   "id": "1a5f2193-93b8-4ad7-9f04-f2f9c37bbe72",
   "metadata": {},
   "source": [
    "**Results and Observations** \n",
    "\n",
    "Our p-value is above the 5% level of significance so we fail to reject the null hypothesis.\n",
    "-  Our Chi-squared test tells us that the difference in conversion rates between the different languages isnt significant enough to reject the null. Therefore we must assume that differences in conversion (yes or no) is independent of the difference in language. We cannot conclude anything about cetrain languages converting differently from one another."
   ]
  },
  {
   "cell_type": "markdown",
   "id": "8d585a90",
   "metadata": {
    "id": "8d585a90"
   },
   "source": [
    "## 4. Is the time spent on the new page same for the different language users?"
   ]
  },
  {
   "cell_type": "code",
   "execution_count": 13,
   "id": "b422f395",
   "metadata": {
    "id": "b422f395"
   },
   "outputs": [
    {
     "data": {
      "image/png": "[encoded data removed]",
      "text/plain": [
       "<Figure size 432x288 with 1 Axes>"
      ]
     },
     "metadata": {
      "needs_background": "light"
     },
     "output_type": "display_data"
    },
    {
     "data": {
      "text/plain": [
       "<seaborn.axisgrid.FacetGrid at 0x7fcc0119c6a0>"
      ]
     },
     "execution_count": 13,
     "metadata": {},
     "output_type": "execute_result"
    },
    {
     "data": {
      "image/png": "[encoded data removed]",
      "text/plain": [
       "<Figure size 360x360 with 1 Axes>"
      ]
     },
     "metadata": {
      "needs_background": "light"
     },
     "output_type": "display_data"
    },
    {
     "data": {
      "image/png": "[encoded data removed]",
      "text/plain": [
       "<Figure size 360x360 with 1 Axes>"
      ]
     },
     "metadata": {
      "needs_background": "light"
     },
     "output_type": "display_data"
    },
    {
     "data": {
      "image/png": "[encoded data removed]",
      "text/plain": [
       "<Figure size 360x360 with 1 Axes>"
      ]
     },
     "metadata": {
      "needs_background": "light"
     },
     "output_type": "display_data"
    }
   ],
   "source": [
    "#here I failed to filter out all old landing page data, reread the question. here we only want to look at the new langing page time for each language.\n",
    "\n",
    "#Visualize the data\n",
    "sns.boxplot(data=df, x='converted', y='page_time', hue='language')\n",
    "plt.show()\n",
    "#filter out all data from the old landing page as this question is only interested in the relationship between time spent on new landing pages between languages \n",
    "df_new= df[df['landing_page']=='new']\n",
    "\n",
    "\n",
    "#create dataframes for each language\n",
    "df_spanish=df_new[df_new['language']=='Spanish']\n",
    "df_english=df_new[df_new['language']=='English']\n",
    "df_french=df_new[df_new['language']=='French']\n",
    "\n",
    "#Visually check that the data is normally distributed (will run statistical test for this later)\n",
    "sns.displot(data=df_spanish, x='page_time', kde=True, bins=10)\n",
    "sns.displot(data=df_english, x='page_time', kde=True, bins=10)\n",
    "sns.displot(data=df_french, x='page_time', kde=True, bins=10)\n",
    "#ditributions seem to be approx normalk but must test further with Shapiro-wilks"
   ]
  },
  {
   "cell_type": "markdown",
   "id": "975208d2-86d6-4465-9cf9-fb9edc4d412c",
   "metadata": {},
   "source": [
    "**Overview:** We will use a One-way ANOVA test as we have to compaire more than 2 means from independent samples. \n",
    "\n",
    "In order for us to use the ANOVA test we must first check several assumptions\n",
    "- Samples are independent simple random samples: yes the samples are both independent and randomly selected\n",
    "- The group populations are normally distributed: yes they are (Shapiro-Wilks test below)\n",
    "- The group populations have a common variance: yes they do (Levens test below)"
   ]
  },
  {
   "cell_type": "markdown",
   "id": "2d033e6b-c61a-4af3-a214-15244279152e",
   "metadata": {},
   "source": [
    "**Test assumptions**\n",
    "Here we will test the assumptions required to run a ANOVA test.\n",
    "- The group populations are normally distributed\n",
    "  - The **Shapiro-wilks Test(below):** will make sure our data is normally distributed. here are the null and alternate hypotheses for that test\n",
    "  - Null hypothesis\n",
    ">$H_0:$ page_time follows a normal distribution \n",
    "  -Alternative hypothesis\n",
    ">$H_a:$ page_time does not follow a normal distribution\n",
    "\n",
    "\n",
    "- The group populations have a common variance\n",
    "  - **The Levense Test(below):**  will test if the variance in each of the language populations is the same or different. Her are the null and alternate hypothesis for that test.\n",
    "  - Null hypothesis\n",
    ">$H_0$: All the variances are equal\n",
    "  -Alternative hypothesis\n",
    ">$H_a$: At least one variance is different from the rest\n"
   ]
  },
  {
   "cell_type": "code",
   "execution_count": 14,
   "id": "42ac538d-f46c-4964-b586-67534220bcdb",
   "metadata": {},
   "outputs": [
    {
     "name": "stdout",
     "output_type": "stream",
     "text": [
      "0.8040016293525696\n",
      "0.46711357711340173\n"
     ]
    }
   ],
   "source": [
    "# find the p-value using shapiro-wilks test\n",
    "w, p_value = stats.shapiro(df_new['page_time']) \n",
    "print(p_value)\n",
    "\n",
    "#find p-value of levenes test\n",
    "statistic, p_value1 = levene(df_new['page_time'][df_new['language']==\"English\"], \n",
    "                                  df_new['page_time'][df_new['language']==\"French\"], \n",
    "                                  df_new['page_time'][df_new['language']==\"Spanish\"])\n",
    "# find the p-value\n",
    "print(p_value1)"
   ]
  },
  {
   "cell_type": "markdown",
   "id": "0540264a-0283-4fc4-975c-7c4372529a13",
   "metadata": {},
   "source": [
    "**Results**\n",
    "- the p-value of the Shapiro Wilks tests is much larger than 0.05 so we fail to reject the null hypothesis that page_time follows a normal distribution\n",
    "- the p-value of the Levense test is slightly larger than 0.05 so we fail to reject null hypothesis that the languages page_times have equal variance."
   ]
  },
  {
   "cell_type": "markdown",
   "id": "7a9f514b-acba-4ca9-a4de-6d624f67d94d",
   "metadata": {},
   "source": [
    "**One-Way ANOVA Test** Now that our assumtions are met we can run our ANOVA for the hypotheses below\n",
    "\n",
    "Null hypothesis: Our null hypothesis is that the mean page_time is the same for all languages\n",
    "- 𝐻0: 𝜇Spanish = 𝜇English = 𝜇French \n",
    " \n",
    "Alternate hypothesis: Our null hypothesis is that the mean page_time is not the same for all languages\n",
    "- 𝐻𝑎: At least one of the language means isnt the same as the others\n"
   ]
  },
  {
   "cell_type": "code",
   "execution_count": 15,
   "id": "5f274d4d-1605-4151-aa57-ad39afcb6cde",
   "metadata": {},
   "outputs": [
    {
     "name": "stdout",
     "output_type": "stream",
     "text": [
      "The p-value is 0.43204138694325955\n"
     ]
    }
   ],
   "source": [
    "# perform one-way anova test\n",
    "test_stat, p_value = f_oneway(df_new.loc[df_new['language'] == 'English', 'page_time'],\n",
    "                              df_new.loc[df_new['language'] == 'Spanish', 'page_time'],\n",
    "                              df_new.loc[df_new['language'] == 'French', 'page_time'])\n",
    "print('The p-value is ' + str(p_value))"
   ]
  },
  {
   "cell_type": "markdown",
   "id": "633f70f7-e6d8-4774-a997-f36ed30a113a",
   "metadata": {},
   "source": [
    "**Results and Conclusions** The p-value is much larger than 0.05 we cannot reject the null and must assume that all mean page_time for each language is the same. At a mninimum we must conclude that their isn't enough statistical evidence to say that they are significantly different. \n",
    "- We cannot say whether or not certain languages prefered the new landing page and must do more research and collect more data if we want to learn more."
   ]
  },
  {
   "cell_type": "markdown",
   "id": "3acbc947",
   "metadata": {
    "id": "3acbc947"
   },
   "source": [
    "## Conclusion and Business Recommendations"
   ]
  },
  {
   "cell_type": "markdown",
   "id": "21fb1063",
   "metadata": {
    "id": "21fb1063"
   },
   "source": [
    "The business conclusions to be drawn from this analysis are clear.  The new landing page outperformed the old with respect to both conversion rate and average time spent on the page.  We could see these differences in our graphical analysis and the results of our statistical tests.  With that in mind, we are not able to draw any conclusions about the effect of language on conversion rate or page time.  While there seem to be slight variations in performance between the languages, these differences are not significant enough to draw any conclusions.  Perhaps a larger dataset would allow us to find significant differences between languages but for now we must assume that language and conversion rate are not correlated.  \n",
    "\n",
    "**Recommendations** \n",
    "- E-news Express should immidiately change their landing page to the new one tested (treatment page) in this A/B test for both increased conversions and time spent on page.  \n",
    "- E-news Express should collect more granular data on customers, age, location, and interestes to allow more detailed analysis.  These datapoints could be sued to further improve the landing page as well as create landing pages targeting conversions in certain demographics and customer segments.  Theri isn't much advanced analysis that can be done with such limited data. "
   ]
  },
  {
   "cell_type": "markdown",
   "id": "U0dAd4i0iCHo",
   "metadata": {
    "id": "U0dAd4i0iCHo"
   },
   "source": [
    "___"
   ]
  }
 ],
 "metadata": {
  "colab": {
   "collapsed_sections": [
    "a6a3d218",
    "6970dd99",
    "9d75cfa2",
    "68f3b2c9",
    "fad2de2f",
    "27906576",
    "e5fdf0c8",
    "56b3dafd",
    "c7ee4907",
    "3f58c9a7",
    "5fed2eac",
    "f5c5258d",
    "359b12f8",
    "d9affc84",
    "353e9d24",
    "d49bfa2d",
    "8d585a90",
    "3acbc947"
   ],
   "name": "ENews_Express_Learner_Notebook_Full_Code v1.1.ipynb",
   "provenance": []
  },
  "kernelspec": {
   "display_name": "Python 3 (ipykernel)",
   "language": "python",
   "name": "python3"
  },
  "language_info": {
   "codemirror_mode": {
    "name": "ipython",
    "version": 3
   },
   "file_extension": ".py",
   "mimetype": "text/x-python",
   "name": "python",
   "nbconvert_exporter": "python",
   "pygments_lexer": "ipython3",
   "version": "3.9.12"
  }
 },
 "nbformat": 4,
 "nbformat_minor": 5
}
